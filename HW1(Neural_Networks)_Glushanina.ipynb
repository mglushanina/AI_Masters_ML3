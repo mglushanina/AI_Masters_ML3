{
  "cells": [
    {
      "cell_type": "markdown",
      "metadata": {
        "id": "IQwlunyE86kE"
      },
      "source": [
        "# 1. Практическое задание. Обучение полносвязной нейронной сети.\n",
        "\n",
        "**ФИО**: Глушанина Мария Евгеньевна\n",
        "\n",
        "**Дедлайн**: 13 октября 2023"
      ]
    },
    {
      "cell_type": "code",
      "execution_count": null,
      "metadata": {
        "id": "UyCGfNgA86kF"
      },
      "outputs": [],
      "source": [
        "import numpy as np\n",
        "import torch\n",
        "import cv2\n",
        "\n",
        "from glob import glob\n",
        "from collections import OrderedDict\n",
        "from matplotlib import pyplot as plt\n",
        "\n",
        "from torch import nn\n",
        "from torch.autograd import Function\n",
        "from torch.autograd import gradcheck\n",
        "from torch.optim import Optimizer, Adam\n",
        "from torch.utils.data import Dataset, DataLoader\n",
        "from torchvision import datasets\n",
        "from torchvision import transforms"
      ]
    },
    {
      "cell_type": "markdown",
      "metadata": {
        "id": "uFaWrLT4GkfY"
      },
      "source": [
        "## 1. Загрузка данных"
      ]
    },
    {
      "cell_type": "markdown",
      "metadata": {
        "id": "R930jTYMG6nB"
      },
      "source": [
        "Если вам требуется работать с каким-нибубь набором данных (dataset), то прежде всего проверьте нет ли его среди встроенных наборов данных https://pytorch.org/vision/stable/datasets.html.\n",
        "\n",
        "В текущем домашнем задании мы будем работать с набором данных FashionMNIST. Он присутствует в списке встроенных наборов данных, однако мы воспользуемся реализацией только для удобного и быстрого способа скачать наборы данных. Ниже предлагается реализовать собственный класс для считывания, обработки и упаковки данных."
      ]
    },
    {
      "cell_type": "code",
      "execution_count": null,
      "metadata": {
        "colab": {
          "base_uri": "https://localhost:8080/"
        },
        "id": "LauGpMvGF5qr",
        "outputId": "deb5b4b0-4b71-4921-c5e8-343746cdb19f"
      },
      "outputs": [
        {
          "output_type": "stream",
          "name": "stdout",
          "text": [
            "Downloading http://fashion-mnist.s3-website.eu-central-1.amazonaws.com/train-images-idx3-ubyte.gz\n",
            "Downloading http://fashion-mnist.s3-website.eu-central-1.amazonaws.com/train-images-idx3-ubyte.gz to data/FashionMNIST/raw/train-images-idx3-ubyte.gz\n"
          ]
        },
        {
          "output_type": "stream",
          "name": "stderr",
          "text": [
            "100%|██████████| 26421880/26421880 [00:02<00:00, 13181513.16it/s]\n"
          ]
        },
        {
          "output_type": "stream",
          "name": "stdout",
          "text": [
            "Extracting data/FashionMNIST/raw/train-images-idx3-ubyte.gz to data/FashionMNIST/raw\n",
            "\n",
            "Downloading http://fashion-mnist.s3-website.eu-central-1.amazonaws.com/train-labels-idx1-ubyte.gz\n",
            "Downloading http://fashion-mnist.s3-website.eu-central-1.amazonaws.com/train-labels-idx1-ubyte.gz to data/FashionMNIST/raw/train-labels-idx1-ubyte.gz\n"
          ]
        },
        {
          "output_type": "stream",
          "name": "stderr",
          "text": [
            "100%|██████████| 29515/29515 [00:00<00:00, 207331.40it/s]\n"
          ]
        },
        {
          "output_type": "stream",
          "name": "stdout",
          "text": [
            "Extracting data/FashionMNIST/raw/train-labels-idx1-ubyte.gz to data/FashionMNIST/raw\n",
            "\n",
            "Downloading http://fashion-mnist.s3-website.eu-central-1.amazonaws.com/t10k-images-idx3-ubyte.gz\n",
            "Downloading http://fashion-mnist.s3-website.eu-central-1.amazonaws.com/t10k-images-idx3-ubyte.gz to data/FashionMNIST/raw/t10k-images-idx3-ubyte.gz\n"
          ]
        },
        {
          "output_type": "stream",
          "name": "stderr",
          "text": [
            "100%|██████████| 4422102/4422102 [00:01<00:00, 3929201.84it/s]\n"
          ]
        },
        {
          "output_type": "stream",
          "name": "stdout",
          "text": [
            "Extracting data/FashionMNIST/raw/t10k-images-idx3-ubyte.gz to data/FashionMNIST/raw\n",
            "\n",
            "Downloading http://fashion-mnist.s3-website.eu-central-1.amazonaws.com/t10k-labels-idx1-ubyte.gz\n",
            "Downloading http://fashion-mnist.s3-website.eu-central-1.amazonaws.com/t10k-labels-idx1-ubyte.gz to data/FashionMNIST/raw/t10k-labels-idx1-ubyte.gz\n"
          ]
        },
        {
          "output_type": "stream",
          "name": "stderr",
          "text": [
            "100%|██████████| 5148/5148 [00:00<00:00, 15152475.08it/s]"
          ]
        },
        {
          "output_type": "stream",
          "name": "stdout",
          "text": [
            "Extracting data/FashionMNIST/raw/t10k-labels-idx1-ubyte.gz to data/FashionMNIST/raw\n",
            "\n"
          ]
        },
        {
          "output_type": "stream",
          "name": "stderr",
          "text": [
            "\n"
          ]
        }
      ],
      "source": [
        "training_data = datasets.FashionMNIST(\n",
        "    root=\"data\",\n",
        "    train=True,\n",
        "    download=True\n",
        ")\n",
        "\n",
        "test_data = datasets.FashionMNIST(\n",
        "    root=\"data\",\n",
        "    train=False,\n",
        "    download=True\n",
        ")"
      ]
    },
    {
      "cell_type": "markdown",
      "metadata": {
        "id": "RIT32OCMaLLP"
      },
      "source": [
        "Воспользуемся функцией загрузки данных из репозитория наборов данных."
      ]
    },
    {
      "cell_type": "code",
      "execution_count": null,
      "metadata": {
        "colab": {
          "base_uri": "https://localhost:8080/"
        },
        "id": "Fm_cf_hEIapm",
        "outputId": "a6aeba3c-ef0e-4e8d-fb38-843b04695c4f"
      },
      "outputs": [
        {
          "output_type": "stream",
          "name": "stdout",
          "text": [
            "t10k-images-idx3-ubyte\t   train-images-idx3-ubyte\n",
            "t10k-images-idx3-ubyte.gz  train-images-idx3-ubyte.gz\n",
            "t10k-labels-idx1-ubyte\t   train-labels-idx1-ubyte\n",
            "t10k-labels-idx1-ubyte.gz  train-labels-idx1-ubyte.gz\n"
          ]
        }
      ],
      "source": [
        "! ls data/FashionMNIST/raw"
      ]
    },
    {
      "cell_type": "code",
      "execution_count": null,
      "metadata": {
        "id": "-xnY5xk1KBg2"
      },
      "outputs": [],
      "source": [
        "#https://github.com/zalandoresearch/fashion-mnist/blob/master/utils/mnist_reader.py\n",
        "\n",
        "def load_mnist(path, kind='train'):\n",
        "    import os\n",
        "    import gzip\n",
        "    import numpy as np\n",
        "\n",
        "    \"\"\"Load MNIST data from `path`\"\"\"\n",
        "    labels_path = os.path.join(path,\n",
        "                               '%s-labels-idx1-ubyte.gz'\n",
        "                               % kind)\n",
        "    images_path = os.path.join(path,\n",
        "                               '%s-images-idx3-ubyte.gz'\n",
        "                               % kind)\n",
        "\n",
        "    with gzip.open(labels_path, 'rb') as lbpath:\n",
        "        labels = np.frombuffer(lbpath.read(), dtype=np.uint8,\n",
        "                               offset=8)\n",
        "\n",
        "    with gzip.open(images_path, 'rb') as imgpath:\n",
        "        images = np.frombuffer(imgpath.read(), dtype=np.uint8,\n",
        "                               offset=16).reshape(len(labels), 784)\n",
        "\n",
        "    return images, labels"
      ]
    },
    {
      "cell_type": "markdown",
      "metadata": {
        "id": "qHIlWRV0aZnA"
      },
      "source": [
        "Для удобства PyTorch предоставляет ряд базовых классов `Dataset, DataLoader`, от которых предлагается отнаследоваться при разработке пользовательских классов. Базовый класс `Dataset` используется для загрузки и обработки данных, класс `DataLoader` используется для управления процессом загрузки данных, позволяет в многопоточном режиме загружать данные и упаковывать их.\n",
        "Эти вспомогательные классы находятся в модуле `torch.utils.data`.\n",
        "\n",
        "При наследовании от класса `torch.utils.data.Dataset` требуется переопределить метод `__len__`, который возвращает количество примеров в наборе данных, а также метод `__getitem__`, который позволяет получить доступ к примеру из набора данных по индексу."
      ]
    },
    {
      "cell_type": "markdown",
      "metadata": {
        "id": "3jf2e5cPbJV2"
      },
      "source": [
        "Реализуем класс для FasionMnist.\n",
        "\n",
        "Элементами датасета должны являться пары '(np.array, int)', массив имеет размерность `(28, 28)`, тип элемента `np.float32`."
      ]
    },
    {
      "cell_type": "code",
      "execution_count": null,
      "metadata": {
        "id": "snTBHRTQI1bc"
      },
      "outputs": [],
      "source": [
        "import os\n",
        "\n",
        "class FashionMnist(Dataset):\n",
        "    def __init__(self, path, train=True, image_transform=None,\n",
        "                 label_transform=None):\n",
        "        if train:\n",
        "            images, labels = load_mnist(os.path.join(path,\"raw\"))\n",
        "        else:\n",
        "            images, labels = load_mnist(os.path.join(path,\"raw\"), kind=\"t10k\")\n",
        "\n",
        "        self.images = images\n",
        "        self.labels = labels\n",
        "        self.image_transform = image_transform\n",
        "        self.label_transform = label_transform\n",
        "\n",
        "    def __len__(self,):\n",
        "        length = len(self.images)\n",
        "        return length\n",
        "\n",
        "    def __getitem__(self, idx):\n",
        "        data_item = self.images[idx].reshape(28,28).astype(np.float32)\n",
        "        label_item = int(self.labels[idx])\n",
        "\n",
        "        if self.image_transform is not None:\n",
        "            data_item = self.image_transform(data_item)\n",
        "        if self.label_transform is not None:\n",
        "            label_item = self.label_transform(label_item)\n",
        "\n",
        "        return data_item, label_item\n"
      ]
    },
    {
      "cell_type": "code",
      "execution_count": null,
      "metadata": {
        "id": "XVGv_2zBNfpz"
      },
      "outputs": [],
      "source": [
        "test_dataset = FashionMnist(\"data/FashionMNIST\", train=False)\n",
        "train_dataset = FashionMnist(\"data/FashionMNIST\")"
      ]
    },
    {
      "cell_type": "code",
      "execution_count": null,
      "metadata": {
        "colab": {
          "base_uri": "https://localhost:8080/"
        },
        "id": "Qt92k7sWn372",
        "outputId": "21113d7b-cb8f-422d-a39e-d8cb551574fd"
      },
      "outputs": [
        {
          "data": {
            "text/plain": [
              "numpy.float32"
            ]
          },
          "execution_count": 165,
          "metadata": {},
          "output_type": "execute_result"
        }
      ],
      "source": [
        "type(train_dataset[0][0][0][0])"
      ]
    },
    {
      "cell_type": "markdown",
      "metadata": {
        "id": "JciETIfndiGR"
      },
      "source": [
        "Визуализируйте случайные элементы набора данных."
      ]
    },
    {
      "cell_type": "code",
      "execution_count": null,
      "metadata": {
        "colab": {
          "base_uri": "https://localhost:8080/",
          "height": 430
        },
        "id": "wBky4UtmOS71",
        "outputId": "683b7fc4-b15a-4078-a6be-95be1562eb00"
      },
      "outputs": [
        {
          "output_type": "display_data",
          "data": {
            "text/plain": [
              "<Figure size 640x480 with 1 Axes>"
            ],
            "image/png": "[encoded data removed]"
          },
          "metadata": {}
        }
      ],
      "source": [
        "import random\n",
        "\n",
        "def plot_random_item(df):\n",
        "    num = random.randint(0, df.__len__())\n",
        "    plt.imshow(df.__getitem__(num)[0])\n",
        "\n",
        "\n",
        "plot_random_item(train_dataset)"
      ]
    },
    {
      "cell_type": "markdown",
      "metadata": {
        "id": "320RvzL7PZrI"
      },
      "source": [
        "В конструктор `Dataset` можно передать объект `torchvision.transforms`, который позволяет преобразовать исходные данные. Преобразование `torchvision.transforms.ToTensor` позволяет преобразоать данные из типа `PIL Image` и `numpy.float32` в тип `torch.float32`\n",
        "\n",
        "Реализуйте собственную поддержку преобразований в `FashionMnist`. Проверьте, что приведение типов работает корректно."
      ]
    },
    {
      "cell_type": "code",
      "execution_count": null,
      "metadata": {
        "id": "pQsGbfXUTxcx"
      },
      "outputs": [],
      "source": [
        "from torchvision.transforms import ToTensor\n",
        "from torchvision.transforms.functional import to_tensor\n",
        "from torch import from_numpy\n",
        "\n",
        "class CustomToTensor(ToTensor):\n",
        "    def __call__(self, sample):\n",
        "        return torch.tensor(sample, dtype=torch.float32)"
      ]
    },
    {
      "cell_type": "code",
      "execution_count": null,
      "metadata": {
        "id": "7BpFQ_Y2PoeI"
      },
      "outputs": [],
      "source": [
        "transform = CustomToTensor()\n",
        "t_right = ToTensor()\n",
        "\n",
        "test_dataset = FashionMnist(\"data/FashionMNIST\",\n",
        "                            train=False,\n",
        "                            image_transform=transform,\n",
        "                            label_transform=None\n",
        "                            )\n",
        "train_dataset = FashionMnist(\"data/FashionMNIST\",\n",
        "                             image_transform=transform,\n",
        "                             label_transform=None\n",
        "                             )"
      ]
    },
    {
      "cell_type": "code",
      "execution_count": null,
      "metadata": {
        "colab": {
          "base_uri": "https://localhost:8080/"
        },
        "id": "ukLn9rY7SCsS",
        "outputId": "3a07afd2-c668-4cfe-c979-16265b61a398"
      },
      "outputs": [
        {
          "output_type": "stream",
          "name": "stdout",
          "text": [
            "The type of the data is torch.float32\n"
          ]
        }
      ],
      "source": [
        "print(f\"The type of the data is {train_dataset[0][0][0][0].dtype}\")"
      ]
    },
    {
      "cell_type": "markdown",
      "metadata": {
        "id": "5Ltavx0QUMnm"
      },
      "source": [
        "Элементы набора данных могут быть объединены в пакеты (batch) явно и неявно. Если данные могут быть сконкатенированы или обЪединены каким-нибудь тривиальным способом, то можно не передавать никаких дополнительных парамертов в `torch.utils.data.Dataloader`."
      ]
    },
    {
      "cell_type": "code",
      "execution_count": null,
      "metadata": {
        "id": "Cizxx6m0VAI7"
      },
      "outputs": [],
      "source": [
        "test_dataloader = DataLoader(test_dataset, batch_size=15, num_workers=2, shuffle=True)\n",
        "batch = next(iter(test_dataloader))"
      ]
    },
    {
      "cell_type": "code",
      "execution_count": null,
      "metadata": {
        "colab": {
          "base_uri": "https://localhost:8080/"
        },
        "id": "SIZiPrBgVwGA",
        "outputId": "d0ef5f4b-ff31-4aac-a125-17ddc686c82b"
      },
      "outputs": [
        {
          "output_type": "stream",
          "name": "stdout",
          "text": [
            "The length of the batch is 2\n",
            "The shape of the batch[0] is torch.Size([15, 28, 28])\n"
          ]
        }
      ],
      "source": [
        "print(f\"The length of the batch is {len(batch)}\")\n",
        "print(f\"The shape of the batch[0] is {batch[0].shape}\")"
      ]
    },
    {
      "cell_type": "markdown",
      "metadata": {
        "id": "BCggRyOQWVIx"
      },
      "source": [
        "Однако, если наша структура данных не позволяет нам использовать объединение по умолчанию, то можно написать собственную функцию, которая будет пакетировать данные.\n",
        "\n",
        "Реализуйте функцию, преобразующую последовательность элементов массива в пакет (batch)."
      ]
    },
    {
      "cell_type": "code",
      "execution_count": null,
      "metadata": {
        "id": "nQVh93fmWSjA"
      },
      "outputs": [],
      "source": [
        "def collate(batch):\n",
        "    images, labels = zip(*batch)\n",
        "\n",
        "    # Стекируем изображения и метки в соответствующие тензоры\n",
        "    image_batch = torch.stack([img for img in images], dim=0)\n",
        "    label_batch = torch.tensor(labels)\n",
        "\n",
        "    return image_batch, label_batch"
      ]
    },
    {
      "cell_type": "markdown",
      "metadata": {
        "id": "Wij6F-vpe7KS"
      },
      "source": [
        "Убедитесть, что все работает корректно."
      ]
    },
    {
      "cell_type": "code",
      "execution_count": null,
      "metadata": {
        "id": "4dDtlvlCXNbW"
      },
      "outputs": [],
      "source": [
        "test_dataloader = DataLoader(test_dataset, batch_size=15, num_workers=2,\n",
        "                             shuffle=True, collate_fn=collate)\n",
        "train_dataloader = DataLoader(train_dataset, batch_size=15, num_workers=2,\n",
        "                              shuffle=True, collate_fn=collate)\n",
        "batch = next(iter(test_dataloader))"
      ]
    },
    {
      "cell_type": "code",
      "execution_count": null,
      "metadata": {
        "colab": {
          "base_uri": "https://localhost:8080/"
        },
        "id": "PFN00IyZXYaF",
        "outputId": "9e5418ba-8002-479b-b876-f74f3f88bc5d"
      },
      "outputs": [
        {
          "output_type": "stream",
          "name": "stdout",
          "text": [
            "The length of the batch is 2\n",
            "The shape of the batch[0] is torch.Size([15, 28, 28])\n"
          ]
        }
      ],
      "source": [
        "print(f\"The length of the batch is {len(batch)}\")\n",
        "print(f\"The shape of the batch[0] is {batch[0].shape}\")"
      ]
    },
    {
      "cell_type": "markdown",
      "metadata": {
        "id": "VHcumwuF86kL"
      },
      "source": [
        "## 2. Реализация модулей нейронной сети (15 баллов)\n",
        "\n",
        "В этом разделе мы полностью реализуем модули для полносвязанной сети.\n",
        "\n",
        "Для начала нам понадобится реализовать прямой и обратный проход через слои.\n",
        "\n",
        "Наши слои будут соответствовать следующему интерфейсу (на примере \"тождественного\" слоя):"
      ]
    },
    {
      "cell_type": "markdown",
      "metadata": {
        "id": "zzhCW5HcfmKd"
      },
      "source": [
        "Сначала, мы реализуем функцию и её градиент."
      ]
    },
    {
      "cell_type": "code",
      "execution_count": null,
      "metadata": {
        "id": "rcqeFXxsFGQO"
      },
      "outputs": [],
      "source": [
        "class IdentityFunction(Function):\n",
        "    \"\"\"\n",
        "    We can implement our own custom autograd Functions by subclassing\n",
        "    torch.autograd.Function and implementing the forward and backward passes\n",
        "    which operate on Tensors.\n",
        "    \"\"\"\n",
        "    @staticmethod\n",
        "    def forward(ctx, input):\n",
        "        \"\"\"\n",
        "        In the forward pass we receive a Tensor containing the input and return\n",
        "        a Tensor containing the output. ctx is a context object that can be used\n",
        "        to stash information for backward computation. You can cache arbitrary\n",
        "        objects for use in the backward pass using the ctx.save_for_backward method.\n",
        "        \"\"\"\n",
        "        return input\n",
        "\n",
        "    @staticmethod\n",
        "    def backward(ctx, grad_output):\n",
        "        \"\"\"\n",
        "        In the backward pass we receive a Tensor containing the gradient of the loss\n",
        "        with respect to the output, and we need to compute the gradient of the loss\n",
        "        with respect to the input.\n",
        "        \"\"\"\n",
        "        return grad_output"
      ]
    },
    {
      "cell_type": "markdown",
      "metadata": {
        "id": "jc6Rtczffxv4"
      },
      "source": [
        "Разработанную функцию обернем классом `IdentityLayer`, все слои в `PyTorch` должны быть наследниками базового класса `nn.Module()`\n"
      ]
    },
    {
      "cell_type": "code",
      "execution_count": null,
      "metadata": {
        "id": "SiqeRVcM86kM"
      },
      "outputs": [],
      "source": [
        "class IdentityLayer(nn.Module):\n",
        "    def __init__(self):\n",
        "        # An identity layer does nothing\n",
        "        super().__init__()\n",
        "        self.identity = IdentityFunction.apply\n",
        "\n",
        "    def forward(self, inp):\n",
        "        # An identity layer just returns whatever it gets as input.\n",
        "        return self.identity(inp)"
      ]
    },
    {
      "cell_type": "markdown",
      "metadata": {
        "id": "N4IoM_pX86kQ"
      },
      "source": [
        "\n",
        "### 2.1 Функция активации ReLU\n",
        "Для начала реализуем функцию активации, слой нелинейности `ReLU(x) = max(x, 0)`. Параметров у слоя нет. Метод `forward` должен вернуть результат поэлементного применения `ReLU` к входному массиву, метод `backward` - градиент функции потерь по входу слоя. В нуле будем считать производную равной 0. Обратите внимание, что при обратном проходе могут понадобиться величины, посчитанные во время прямого прохода, поэтому их стоит сохранить в `ctx`."
      ]
    },
    {
      "cell_type": "code",
      "execution_count": null,
      "metadata": {
        "id": "U9qrJ47xY6H0"
      },
      "outputs": [],
      "source": [
        "class ReLUFunction(Function):\n",
        "    @staticmethod\n",
        "    def forward(ctx, input):\n",
        "        output = np.maximum(0, input)\n",
        "        ctx.save_for_backward(input)\n",
        "\n",
        "        return output\n",
        "\n",
        "    @staticmethod\n",
        "    def backward(ctx, grad_output):\n",
        "        input, = ctx.saved_tensors\n",
        "        grad_input = grad_output.clone()\n",
        "        grad_input[input<0] = 0\n",
        "\n",
        "        return grad_input\n"
      ]
    },
    {
      "cell_type": "code",
      "execution_count": null,
      "metadata": {
        "id": "y09ZVCsT86kT"
      },
      "outputs": [],
      "source": [
        "class ReLU(nn.Module):\n",
        "    def __init__(self):\n",
        "        super(ReLU, self).__init__()\n",
        "\n",
        "        return\n",
        "\n",
        "\n",
        "    def forward(self, input):\n",
        "        return ReLUFunction.apply(input)"
      ]
    },
    {
      "cell_type": "markdown",
      "metadata": {
        "id": "2RwKEUp_V3-L"
      },
      "source": [
        "Не забываем после реализации функции проверить градиент, испльзуя функцию `gradcheck`."
      ]
    },
    {
      "cell_type": "code",
      "execution_count": null,
      "metadata": {
        "id": "K0RnDQZCXXZn"
      },
      "outputs": [],
      "source": [
        "x = torch.randn(5, requires_grad=True, dtype=torch.float64)\n",
        "relu = ReLU()\n",
        "\n",
        "assert gradcheck(relu, x)"
      ]
    },
    {
      "cell_type": "code",
      "execution_count": null,
      "metadata": {
        "id": "vUmbmR4iXurd"
      },
      "outputs": [],
      "source": [
        "torch_relu = torch.nn.ReLU()\n",
        "our_relu = ReLU()\n",
        "\n",
        "assert torch.norm(torch_relu(x.float()) - our_relu(x)) < 1e-5"
      ]
    },
    {
      "cell_type": "markdown",
      "metadata": {
        "id": "ojTR4GFd86kY"
      },
      "source": [
        "### 2.2 Линейный слой (linear, fully-connected)\n",
        "Далее реализуем полносвязный слой без нелинейности. У слоя два набора параметра: матрица весов (weights) и вектор смещения (bias)."
      ]
    },
    {
      "cell_type": "code",
      "execution_count": null,
      "metadata": {
        "id": "fBl34oykbcBf"
      },
      "outputs": [],
      "source": [
        "import torch\n",
        "import torch.nn as nn\n",
        "import torch.nn.functional as F\n",
        "\n",
        "class LinearFunction(torch.autograd.Function):\n",
        "    \"\"\"\n",
        "    Custom autograd function for a simple linear function: y = wx + b\n",
        "    \"\"\"\n",
        "    @staticmethod\n",
        "    def forward(ctx, x, w, b):\n",
        "        ctx.save_for_backward(x, w, b)\n",
        "        output = torch.mm(x, w.t()) + b\n",
        "        return output\n",
        "\n",
        "    @staticmethod\n",
        "    def backward(ctx, grad_output):\n",
        "        x, w, b = ctx.saved_tensors\n",
        "        grad_input = torch.mm(grad_output, w)\n",
        "        grad_weight = torch.mm(grad_output.t(), x)\n",
        "        grad_bias = grad_output.sum(0)\n",
        "\n",
        "        return grad_input, grad_weight, grad_bias\n"
      ]
    },
    {
      "cell_type": "code",
      "execution_count": null,
      "metadata": {
        "id": "YbN5JOc886kZ"
      },
      "outputs": [],
      "source": [
        "class Linear(nn.Module):\n",
        "    \"\"\"\n",
        "    Custom linear layer for a neural network: y = wx + b\n",
        "    \"\"\"\n",
        "    def __init__(self, in_features, out_features):\n",
        "        super(Linear, self).__init__()\n",
        "        self.in_features = in_features\n",
        "        self.out_features = out_features\n",
        "\n",
        "        # Initialize weights and biases\n",
        "        self.weight = nn.Parameter(torch.Tensor(out_features, in_features))\n",
        "        self.bias = nn.Parameter(torch.Tensor(out_features))\n",
        "\n",
        "        # Initialize parameters\n",
        "        self.reset_parameters()\n",
        "\n",
        "    def reset_parameters(self):\n",
        "        nn.init.kaiming_uniform_(self.weight, a=math.sqrt(5))\n",
        "        if self.bias is not None:\n",
        "            fan_in, _ = nn.init._calculate_fan_in_and_fan_out(self.weight)\n",
        "            bound = 1 / math.sqrt(fan_in)\n",
        "            nn.init.uniform_(self.bias, -bound, bound)\n",
        "\n",
        "    def forward(self, x):\n",
        "        return LinearFunction.apply(x, self.weight, self.bias)\n"
      ]
    },
    {
      "cell_type": "markdown",
      "metadata": {
        "id": "gToXI43WYMDv"
      },
      "source": [
        "Проверим градиент, а также сравним с работой нашего модуля с имплементированным в `PyTorch`."
      ]
    },
    {
      "cell_type": "markdown",
      "metadata": {
        "id": "et7mKX5xZfMI"
      },
      "source": [
        "Проверка градиента:"
      ]
    },
    {
      "cell_type": "code",
      "execution_count": null,
      "metadata": {
        "id": "PxLVozqLZb_H"
      },
      "outputs": [],
      "source": [
        "input_data = torch.randn(5, 3, requires_grad=True, dtype=torch.float64)\n",
        "weight = torch.randn(4, 3, requires_grad=True, dtype=torch.float64)\n",
        "bias = torch.randn(4, requires_grad=True, dtype=torch.float64)\n",
        "assert gradcheck(LinearFunction.apply, (input_data, weight, bias), eps=1e-6, atol=1e-4)"
      ]
    },
    {
      "cell_type": "markdown",
      "metadata": {
        "id": "pW8ppOciZndN"
      },
      "source": [
        "Сравнение с `PyTorch`."
      ]
    },
    {
      "cell_type": "code",
      "execution_count": null,
      "metadata": {
        "colab": {
          "base_uri": "https://localhost:8080/"
        },
        "id": "IIR9svs7Zmq0",
        "outputId": "d9a36462-f09f-4513-c289-40138538b327"
      },
      "outputs": [
        {
          "output_type": "stream",
          "name": "stdout",
          "text": [
            "Outputs match between our linear and torch linear.\n"
          ]
        }
      ],
      "source": [
        "import math\n",
        "\n",
        "our_linear = Linear(3, 4)\n",
        "torch_linear = nn.Linear(3, 4)\n",
        "\n",
        "weight = torch.randn(4, 3)\n",
        "bias = torch.randn(4)\n",
        "\n",
        "state_dict = OrderedDict([(\"weight\", weight), (\"bias\", bias)])\n",
        "torch_linear.load_state_dict(state_dict)\n",
        "our_linear.load_state_dict(state_dict)\n",
        "\n",
        "input_data = torch.randn(5, 3)\n",
        "output_our = our_linear(input_data)\n",
        "output_torch = torch_linear(input_data)\n",
        "\n",
        "if torch.allclose(output_our, output_torch):\n",
        "    print(\"Outputs match between our linear and torch linear.\")\n",
        "else:\n",
        "    print(\"Outputs do not match between our linear and torch linear.\")"
      ]
    },
    {
      "cell_type": "markdown",
      "metadata": {
        "id": "0dyhDg0D86kt"
      },
      "source": [
        "### 2.3 LogSoftmax (Log + Softmax)"
      ]
    },
    {
      "cell_type": "markdown",
      "metadata": {
        "id": "ArL0HLGH86ku"
      },
      "source": [
        "Для решения задачи многоклассовой классификации обычно используют `softmax` в качестве нелинейности на последнем слое, чтобы получить \"оценку\" вероятности классов для каждого объекта:$$\\hat y = softmax(x)  = \\bigl \\{\\frac {exp(x_i)}{\\sum_j exp(x_j)} \\bigr \\}_{i=1}^K, \\quad K - \\text{число классов}$$В этом случае удобно оптимизировать логарифм правдоподобия:$$L(y, \\hat y) = -\\sum_{i=1}^K y_i \\log \\hat y_i \\rightarrow \\min,$$где $y_i=1$, если объект принадлежит $i$-му классу, и 0 иначе. Записанная в таком виде, эта функция потерь совпадает с выражением для кросс-энтропии. Очевидно, что ее также можно переписать через индексацию, если через $y_i$ обозначить класс данного объекта:$$L(y, \\hat y) = - \\log \\hat y_{y_i} \\rightarrow \\min$$В таком виде ее удобно реализовывать.\n",
        "\n",
        "Реализуйте слой `LogSoftmax` (без параметров). Метод `forward` должен вычислять логарифм от `softmax`, а метод `backward` - пропускать градиенты. В общем случае в промежуточных вычислениях `backward` получится трехмерный тензор, однако для нашей конкретной функции потерь все вычисления можно реализовать в матричном виде. Поэтому мы будем предполагать, что аргумент `grad_output` - это матрица, у которой в каждой строке только одно ненулевое значение (не обязательно единица).\n",
        "\n",
        "Комментарий: разобраться `Log-Sum-Exp trick`"
      ]
    },
    {
      "cell_type": "code",
      "execution_count": null,
      "metadata": {
        "id": "xSV3XD0N86ky"
      },
      "outputs": [],
      "source": [
        "class LogSoftmaxFunction(Function):\n",
        "    @staticmethod\n",
        "    def forward(ctx, inp):\n",
        "        max_val, _ = inp.max(dim=1, keepdim=True)\n",
        "        log_softmax = inp - max_val - torch.log(torch.exp(inp - max_val).sum(dim=1, keepdim=True))\n",
        "\n",
        "        ctx.save_for_backward(log_softmax)\n",
        "        return log_softmax\n",
        "\n",
        "    @staticmethod\n",
        "    def backward(ctx, grad_output):\n",
        "        log_softmax, = ctx.saved_tensors\n",
        "        softmax = torch.exp(log_softmax)\n",
        "        grad_input = grad_output - softmax * grad_output.sum(dim=1, keepdim=True)\n",
        "        return grad_input"
      ]
    },
    {
      "cell_type": "code",
      "execution_count": null,
      "metadata": {
        "id": "z7OnC6o_z2vg"
      },
      "outputs": [],
      "source": [
        "class LogSoftmax(nn.Module):\n",
        "    def __init__(self):\n",
        "        super(LogSoftmax, self).__init__()\n",
        "\n",
        "    def forward(self, input):\n",
        "        return LogSoftmaxFunction.apply(input)"
      ]
    },
    {
      "cell_type": "markdown",
      "metadata": {
        "id": "Ke4G67cddjVA"
      },
      "source": [
        "Проверка градиентов."
      ]
    },
    {
      "cell_type": "code",
      "execution_count": null,
      "metadata": {
        "id": "cfgkVgGbrQEv"
      },
      "outputs": [],
      "source": [
        "input_data = torch.randn(5, 3, requires_grad=True, dtype=torch.float64)\n",
        "logsoftmax_layer = LogSoftmax()\n",
        "assert gradcheck(logsoftmax_layer, (input_data,)), \"Gradient check for LogSoftmax Module failed\""
      ]
    },
    {
      "cell_type": "markdown",
      "metadata": {
        "id": "3Sn2M_Q086k2"
      },
      "source": [
        "### 2.4 Dropout\n",
        "Реализуйте слой Dropout."
      ]
    },
    {
      "cell_type": "code",
      "execution_count": null,
      "metadata": {
        "id": "qCLECy1y86k3"
      },
      "outputs": [],
      "source": [
        "class DropoutFunction(Function):\n",
        "    @staticmethod\n",
        "    def forward(ctx, inp, p):\n",
        "        mask = torch.rand_like(inp) > p\n",
        "        ctx.save_for_backward(mask)\n",
        "        return inp * mask / (1-p)\n",
        "\n",
        "    @staticmethod\n",
        "    def backward(ctx, grad_output):\n",
        "        mask, = ctx.saved_tensors\n",
        "        return grad_output * mask, None, None"
      ]
    },
    {
      "cell_type": "code",
      "execution_count": null,
      "metadata": {
        "id": "pS5z_mth1ZAZ"
      },
      "outputs": [],
      "source": [
        "class Dropout(nn.Module):\n",
        "    def __init__(self, p):\n",
        "        super(Dropout, self).__init__()\n",
        "        self.p = p\n",
        "\n",
        "    def forward(self, input):\n",
        "        return DropoutFunction.apply(input, self.p)"
      ]
    },
    {
      "cell_type": "markdown",
      "metadata": {
        "id": "hyPPzkCI86k7"
      },
      "source": [
        "### 2.5 CrossEntropy\n",
        "\n",
        "При решении задачи многоклассовой классификации мы будет использовать в качестве функции потерь кроссэнтропию. Реализуйте функцию потерь. В разделе 2.3 приведены полезные формулы."
      ]
    },
    {
      "cell_type": "code",
      "execution_count": null,
      "metadata": {
        "id": "-4e8hjX2MqpA"
      },
      "outputs": [],
      "source": [
        "import torch\n",
        "import torch.nn as nn\n",
        "from torch.autograd import Function\n",
        "from torch.autograd import gradcheck\n",
        "\n",
        "class CrossEntropyLossFunction(Function):\n",
        "    @staticmethod\n",
        "    def forward(ctx, input, target):\n",
        "        max_val, _ = input.max(dim=1, keepdim=True)\n",
        "        input_shifted = input - max_val\n",
        "        exp_input = input_shifted.exp()\n",
        "        sum_exp = exp_input.sum(dim=1, keepdim=True)\n",
        "        log_sum_exp = max_val + sum_exp.log()\n",
        "        ctx.save_for_backward(input_shifted, sum_exp, target)\n",
        "        loss = log_sum_exp - input_shifted.gather(1, target.view(-1, 1)).squeeze()\n",
        "        return loss.mean()\n",
        "\n",
        "    @staticmethod\n",
        "    def backward(ctx, grad_output):\n",
        "        input_shifted, sum_exp, target = ctx.saved_tensors\n",
        "        softmax = input_shifted.exp() / sum_exp\n",
        "        grad_input = softmax.clone()\n",
        "        grad_input[range(target.size(0)), target] -= 1\n",
        "        grad_input *= grad_output.view(-1, 1)\n",
        "        grad_input /= target.size(0)\n",
        "        return grad_input, None\n"
      ]
    },
    {
      "cell_type": "code",
      "execution_count": null,
      "metadata": {
        "id": "KWkvXvVeLDRd"
      },
      "outputs": [],
      "source": [
        "class CrossEntropyLoss(nn.Module):\n",
        "    def __init__(self):\n",
        "        super(CrossEntropyLoss, self).__init__()\n",
        "\n",
        "    def forward(self, input, target):\n",
        "        return CrossEntropyLossFunction.apply(input, target)"
      ]
    },
    {
      "cell_type": "markdown",
      "metadata": {
        "id": "vFNcOfVNesCC"
      },
      "source": [
        "Проверка градиентов."
      ]
    },
    {
      "cell_type": "code",
      "execution_count": null,
      "metadata": {
        "colab": {
          "base_uri": "https://localhost:8080/",
          "height": 598
        },
        "id": "WJAa8MwcLEEz",
        "outputId": "12df8f89-e8d9-4f17-b7f7-976294dbe214"
      },
      "outputs": [
        {
          "output_type": "stream",
          "name": "stdout",
          "text": [
            "Loss: 4.071556807966641\n"
          ]
        },
        {
          "output_type": "error",
          "ename": "GradcheckError",
          "evalue": "ignored",
          "traceback": [
            "\u001b[0;31m---------------------------------------------------------------------------\u001b[0m",
            "\u001b[0;31mGradcheckError\u001b[0m                            Traceback (most recent call last)",
            "\u001b[0;32m<ipython-input-33-5702601683c5>\u001b[0m in \u001b[0;36m<cell line: 11>\u001b[0;34m()\u001b[0m\n\u001b[1;32m      9\u001b[0m \u001b[0;34m\u001b[0m\u001b[0m\n\u001b[1;32m     10\u001b[0m \u001b[0;31m# Run gradcheck to verify the gradients\u001b[0m\u001b[0;34m\u001b[0m\u001b[0;34m\u001b[0m\u001b[0m\n\u001b[0;32m---> 11\u001b[0;31m \u001b[0mgradcheck\u001b[0m\u001b[0;34m(\u001b[0m\u001b[0mloss_fn\u001b[0m\u001b[0;34m,\u001b[0m \u001b[0;34m(\u001b[0m\u001b[0minput\u001b[0m\u001b[0;34m,\u001b[0m \u001b[0mtarget\u001b[0m\u001b[0;34m)\u001b[0m\u001b[0;34m,\u001b[0m \u001b[0meps\u001b[0m\u001b[0;34m=\u001b[0m\u001b[0;36m1e-4\u001b[0m\u001b[0;34m,\u001b[0m \u001b[0matol\u001b[0m\u001b[0;34m=\u001b[0m\u001b[0;36m1e-2\u001b[0m\u001b[0;34m)\u001b[0m\u001b[0;34m\u001b[0m\u001b[0;34m\u001b[0m\u001b[0m\n\u001b[0m",
            "\u001b[0;32m/usr/local/lib/python3.10/dist-packages/torch/autograd/gradcheck.py\u001b[0m in \u001b[0;36mgradcheck\u001b[0;34m(func, inputs, eps, atol, rtol, raise_exception, check_sparse_nnz, nondet_tol, check_undefined_grad, check_grad_dtypes, check_batched_grad, check_batched_forward_grad, check_forward_ad, check_backward_ad, fast_mode)\u001b[0m\n\u001b[1;32m   1474\u001b[0m             \u001b[0;32mreturn\u001b[0m \u001b[0;32mFalse\u001b[0m\u001b[0;34m\u001b[0m\u001b[0;34m\u001b[0m\u001b[0m\n\u001b[1;32m   1475\u001b[0m     \u001b[0;32melse\u001b[0m\u001b[0;34m:\u001b[0m\u001b[0;34m\u001b[0m\u001b[0;34m\u001b[0m\u001b[0m\n\u001b[0;32m-> 1476\u001b[0;31m         \u001b[0;32mreturn\u001b[0m \u001b[0m_gradcheck_helper\u001b[0m\u001b[0;34m(\u001b[0m\u001b[0;34m**\u001b[0m\u001b[0margs\u001b[0m\u001b[0;34m)\u001b[0m\u001b[0;34m\u001b[0m\u001b[0;34m\u001b[0m\u001b[0m\n\u001b[0m\u001b[1;32m   1477\u001b[0m \u001b[0;34m\u001b[0m\u001b[0m\n\u001b[1;32m   1478\u001b[0m \u001b[0;34m\u001b[0m\u001b[0m\n",
            "\u001b[0;32m/usr/local/lib/python3.10/dist-packages/torch/autograd/gradcheck.py\u001b[0m in \u001b[0;36m_gradcheck_helper\u001b[0;34m(func, inputs, eps, atol, rtol, check_sparse_nnz, nondet_tol, check_undefined_grad, check_grad_dtypes, check_batched_grad, check_batched_forward_grad, check_forward_ad, check_backward_ad, fast_mode)\u001b[0m\n\u001b[1;32m   1488\u001b[0m \u001b[0;34m\u001b[0m\u001b[0m\n\u001b[1;32m   1489\u001b[0m     \u001b[0mgradcheck_fn\u001b[0m \u001b[0;34m=\u001b[0m \u001b[0m_fast_gradcheck\u001b[0m \u001b[0;32mif\u001b[0m \u001b[0mfast_mode\u001b[0m \u001b[0;32melse\u001b[0m \u001b[0m_slow_gradcheck\u001b[0m\u001b[0;34m\u001b[0m\u001b[0;34m\u001b[0m\u001b[0m\n\u001b[0;32m-> 1490\u001b[0;31m     _gradcheck_real_imag(gradcheck_fn, func, func_out, tupled_inputs, outputs, eps,\n\u001b[0m\u001b[1;32m   1491\u001b[0m                          \u001b[0mrtol\u001b[0m\u001b[0;34m,\u001b[0m \u001b[0matol\u001b[0m\u001b[0;34m,\u001b[0m \u001b[0mcheck_grad_dtypes\u001b[0m\u001b[0;34m,\u001b[0m \u001b[0mcheck_forward_ad\u001b[0m\u001b[0;34m=\u001b[0m\u001b[0mcheck_forward_ad\u001b[0m\u001b[0;34m,\u001b[0m\u001b[0;34m\u001b[0m\u001b[0;34m\u001b[0m\u001b[0m\n\u001b[1;32m   1492\u001b[0m                          \u001b[0mcheck_backward_ad\u001b[0m\u001b[0;34m=\u001b[0m\u001b[0mcheck_backward_ad\u001b[0m\u001b[0;34m,\u001b[0m \u001b[0mnondet_tol\u001b[0m\u001b[0;34m=\u001b[0m\u001b[0mnondet_tol\u001b[0m\u001b[0;34m,\u001b[0m\u001b[0;34m\u001b[0m\u001b[0;34m\u001b[0m\u001b[0m\n",
            "\u001b[0;32m/usr/local/lib/python3.10/dist-packages/torch/autograd/gradcheck.py\u001b[0m in \u001b[0;36m_gradcheck_real_imag\u001b[0;34m(gradcheck_fn, func, func_out, tupled_inputs, outputs, eps, rtol, atol, check_grad_dtypes, check_forward_ad, check_backward_ad, nondet_tol, check_undefined_grad)\u001b[0m\n\u001b[1;32m   1111\u001b[0m                          rtol, atol, check_grad_dtypes, nondet_tol, complex_indices=complex_out_indices)\n\u001b[1;32m   1112\u001b[0m         \u001b[0;32melse\u001b[0m\u001b[0;34m:\u001b[0m\u001b[0;34m\u001b[0m\u001b[0;34m\u001b[0m\u001b[0m\n\u001b[0;32m-> 1113\u001b[0;31m             gradcheck_fn(func, func_out, tupled_inputs, outputs, eps,\n\u001b[0m\u001b[1;32m   1114\u001b[0m                          rtol, atol, check_grad_dtypes, nondet_tol)\n\u001b[1;32m   1115\u001b[0m \u001b[0;34m\u001b[0m\u001b[0m\n",
            "\u001b[0;32m/usr/local/lib/python3.10/dist-packages/torch/autograd/gradcheck.py\u001b[0m in \u001b[0;36m_slow_gradcheck\u001b[0;34m(func, func_out, tupled_inputs, outputs, eps, rtol, atol, check_grad_dtypes, nondet_tol, use_forward_ad, complex_indices, test_imag)\u001b[0m\n\u001b[1;32m   1168\u001b[0m             \u001b[0;32mfor\u001b[0m \u001b[0mj\u001b[0m\u001b[0;34m,\u001b[0m \u001b[0;34m(\u001b[0m\u001b[0ma\u001b[0m\u001b[0;34m,\u001b[0m \u001b[0mn\u001b[0m\u001b[0;34m)\u001b[0m \u001b[0;32min\u001b[0m \u001b[0menumerate\u001b[0m\u001b[0;34m(\u001b[0m\u001b[0mzip\u001b[0m\u001b[0;34m(\u001b[0m\u001b[0manalytical\u001b[0m\u001b[0;34m,\u001b[0m \u001b[0mnumerical\u001b[0m\u001b[0;34m[\u001b[0m\u001b[0mi\u001b[0m\u001b[0;34m]\u001b[0m\u001b[0;34m)\u001b[0m\u001b[0;34m)\u001b[0m\u001b[0;34m:\u001b[0m\u001b[0;34m\u001b[0m\u001b[0;34m\u001b[0m\u001b[0m\n\u001b[1;32m   1169\u001b[0m                 \u001b[0;32mif\u001b[0m \u001b[0;32mnot\u001b[0m \u001b[0m_allclose_with_type_promotion\u001b[0m\u001b[0;34m(\u001b[0m\u001b[0ma\u001b[0m\u001b[0;34m,\u001b[0m \u001b[0mn\u001b[0m\u001b[0;34m.\u001b[0m\u001b[0mto\u001b[0m\u001b[0;34m(\u001b[0m\u001b[0ma\u001b[0m\u001b[0;34m.\u001b[0m\u001b[0mdevice\u001b[0m\u001b[0;34m)\u001b[0m\u001b[0;34m,\u001b[0m \u001b[0mrtol\u001b[0m\u001b[0;34m,\u001b[0m \u001b[0matol\u001b[0m\u001b[0;34m)\u001b[0m\u001b[0;34m:\u001b[0m\u001b[0;34m\u001b[0m\u001b[0;34m\u001b[0m\u001b[0m\n\u001b[0;32m-> 1170\u001b[0;31m                     \u001b[0;32mraise\u001b[0m \u001b[0mGradcheckError\u001b[0m\u001b[0;34m(\u001b[0m\u001b[0m_get_notallclose_msg\u001b[0m\u001b[0;34m(\u001b[0m\u001b[0ma\u001b[0m\u001b[0;34m,\u001b[0m \u001b[0mn\u001b[0m\u001b[0;34m,\u001b[0m \u001b[0mi\u001b[0m\u001b[0;34m,\u001b[0m \u001b[0mj\u001b[0m\u001b[0;34m,\u001b[0m \u001b[0mcomplex_indices\u001b[0m\u001b[0;34m,\u001b[0m \u001b[0mtest_imag\u001b[0m\u001b[0;34m)\u001b[0m\u001b[0;34m)\u001b[0m\u001b[0;34m\u001b[0m\u001b[0;34m\u001b[0m\u001b[0m\n\u001b[0m\u001b[1;32m   1171\u001b[0m \u001b[0;34m\u001b[0m\u001b[0m\n\u001b[1;32m   1172\u001b[0m     \u001b[0;32mreturn\u001b[0m \u001b[0;32mTrue\u001b[0m\u001b[0;34m\u001b[0m\u001b[0;34m\u001b[0m\u001b[0m\n",
            "\u001b[0;31mGradcheckError\u001b[0m: Jacobian mismatch for output 0 with respect to input 0,\nnumerical:tensor([[ 0.9057],\n        [ 0.0627],\n        [-0.4684],\n        [-0.3978],\n        [ 0.8156],\n        [ 0.0821]], dtype=torch.float64)\nanalytical:tensor([[ 0.4057],\n        [ 0.0627],\n        [-0.4684],\n        [-0.3978],\n        [ 0.3156],\n        [ 0.0821]], dtype=torch.float64)\n"
          ]
        }
      ],
      "source": [
        "#я максимально пыталась разобраться с jacobian mismatch но вышло пока только так\n",
        "input = torch.randn(2, 3, requires_grad=True, dtype=torch.double)\n",
        "target = torch.empty(2, dtype=torch.long).random_(3)\n",
        "\n",
        "loss_fn = CrossEntropyLoss()\n",
        "loss = loss_fn(input, target)\n",
        "\n",
        "print(\"Loss:\", loss.item())\n",
        "\n",
        "# Run gradcheck to verify the gradients\n",
        "gradcheck(loss_fn, (input, target), eps=1e-4, atol=1e-2)"
      ]
    },
    {
      "cell_type": "markdown",
      "metadata": {
        "id": "kmzKDpyE86lg"
      },
      "source": [
        "## 3. Сборка и обучение нейронной сети (5 балла)"
      ]
    },
    {
      "cell_type": "markdown",
      "metadata": {
        "id": "mPqlZfj_86lg"
      },
      "source": [
        "Реализуйте произвольную нейросеть, состоящую из ваших блоков. Она должна состоять из нескольких полносвязанных слоев."
      ]
    },
    {
      "cell_type": "code",
      "execution_count": null,
      "metadata": {
        "id": "tkESXVD87sM8"
      },
      "outputs": [],
      "source": [
        "class Network(nn.Module):\n",
        "    def __init__(self, input_size=28*28, hidden_layers_size=32, num_layers=5,\n",
        "                 num_classes=10, activation_function=ReLU):\n",
        "        super().__init__()\n",
        "        self.num_layers = num_layers\n",
        "        self.input_size = input_size\n",
        "        self.hidden_size = hidden_layers_size\n",
        "        self.Flatten = nn.Flatten()\n",
        "\n",
        "        self.layers = nn.ModuleList()\n",
        "        self.layers.append(Linear(input_size, hidden_layers_size))\n",
        "        self.layers.append(ReLU())\n",
        "        self.layers.append(Dropout(p=0.2))\n",
        "\n",
        "        for _ in range(num_layers - 1):\n",
        "            self.layers.append(Linear(hidden_layers_size, hidden_layers_size))\n",
        "            self.layers.append(activation_function())\n",
        "            self.layers.append(Dropout(p=0.2))\n",
        "\n",
        "        self.layers.append(Linear(hidden_layers_size, num_classes))\n",
        "        self.layers.append(LogSoftmax())\n",
        "\n",
        "\n",
        "    def forward(self, inp):\n",
        "        inp = self.Flatten(inp)\n",
        "        for layer in self.layers:\n",
        "            inp = layer(inp)\n",
        "        return inp\n",
        "\n",
        "\n",
        "\n",
        "    def predict(self, inp):\n",
        "        with torch.no_grad():\n",
        "            output = self.forward(inp)\n",
        "            _, predicted_class = output.max(dim=1)\n",
        "        return predicted_class"
      ]
    },
    {
      "cell_type": "markdown",
      "metadata": {
        "id": "Vj-eEvMFfbSo"
      },
      "source": [
        "Ниже приведены функции, реализующие обучение нейронной сети. В данном задании их предлагается просто переиспользовать."
      ]
    },
    {
      "cell_type": "code",
      "execution_count": null,
      "metadata": {
        "id": "vDhcoCB4OpXE"
      },
      "outputs": [],
      "source": [
        "class EmptyContext:\n",
        "    def __enter__(self):\n",
        "        pass\n",
        "\n",
        "    def __exit__(self, *args):\n",
        "        pass"
      ]
    },
    {
      "cell_type": "code",
      "execution_count": null,
      "metadata": {
        "id": "8AsWblqIOquI"
      },
      "outputs": [],
      "source": [
        "# accuract metric for our classififcation\n",
        "def accuracy(model_labels, labels):\n",
        "  return torch.mean((model_labels == labels).float())"
      ]
    },
    {
      "cell_type": "code",
      "execution_count": null,
      "metadata": {
        "id": "Oy33FHuv_Us-"
      },
      "outputs": [],
      "source": [
        "def perform_epoch(model, loader, criterion,\n",
        "                optimizer=None, device=None):\n",
        "    is_train = optimizer is not None\n",
        "    model = model.to(device)\n",
        "    if is_train:\n",
        "        model.train()\n",
        "    else:\n",
        "        model.eval()\n",
        "\n",
        "    total_loss = 0\n",
        "    total_acc = 0\n",
        "    total_n = 0\n",
        "    with EmptyContext() if is_train else torch.no_grad():\n",
        "        for batch_data, batch_labels in loader:\n",
        "            batch_data = batch_data.to(device)\n",
        "            batch_labels = batch_labels.to(device)\n",
        "            model_labels = model(batch_data)\n",
        "            model_prediction = model.predict(batch_data)\n",
        "            new_loss = criterion(model_labels, batch_labels)\n",
        "            if is_train:\n",
        "              optimizer.zero_grad()\n",
        "              new_loss.backward()\n",
        "              optimizer.step()\n",
        "\n",
        "            one_batch_loss = float(criterion(model_labels, batch_labels))\n",
        "            one_batch_acc = accuracy(model_prediction, batch_labels)\n",
        "\n",
        "            total_loss += one_batch_loss\n",
        "            total_acc += one_batch_acc\n",
        "            total_n += 1\n",
        "    return (total_loss / total_n, total_acc / total_n)"
      ]
    },
    {
      "cell_type": "markdown",
      "metadata": {
        "id": "FtamPEJZgOY5"
      },
      "source": [
        "Теперь обучим нашу нейронную сеть. В данном разделе будем использовать оптимизатор `Adam` с параметрами по умолчанию."
      ]
    },
    {
      "cell_type": "code",
      "execution_count": null,
      "metadata": {
        "id": "mEcyUJJI_aAn"
      },
      "outputs": [],
      "source": [
        "model     = Network() #your network\n",
        "optimizer = torch.optim.Adam(model.parameters()) #your optimizer\n",
        "criterion = nn.CrossEntropyLoss() #использую свой лосс в доп.заданиях и сравню с этим"
      ]
    },
    {
      "cell_type": "code",
      "execution_count": null,
      "metadata": {
        "colab": {
          "base_uri": "https://localhost:8080/"
        },
        "id": "OBADDSi0_jx7",
        "outputId": "25f7597a-af5d-404b-d933-5187dacea0b4"
      },
      "outputs": [
        {
          "output_type": "stream",
          "name": "stdout",
          "text": [
            "Epoch - 0 : loss 1.212225410990417, accuracy 0.5441964864730835\n",
            "Current learning rate: 0.001\n",
            "Epoch - 1 : loss 1.0489435324370862, accuracy 0.6134357452392578\n",
            "Current learning rate: 0.001\n",
            "Epoch - 2 : loss 0.9975426961928606, accuracy 0.6401225328445435\n",
            "Current learning rate: 0.001\n",
            "Epoch - 3 : loss 0.9720682567730546, accuracy 0.6540231704711914\n",
            "Current learning rate: 0.001\n",
            "Epoch - 4 : loss 0.9564733352456242, accuracy 0.65533846616745\n",
            "Current learning rate: 0.001\n",
            "Epoch - 5 : loss 0.9322065105102957, accuracy 0.666975736618042\n",
            "Current learning rate: 0.001\n",
            "Epoch - 6 : loss 0.9071236151009798, accuracy 0.6757755875587463\n",
            "Current learning rate: 0.001\n",
            "Epoch - 7 : loss 0.8976876159906387, accuracy 0.6810258030891418\n",
            "Current learning rate: 0.001\n",
            "Epoch - 8 : loss 0.8847544702775776, accuracy 0.6865255832672119\n",
            "Current learning rate: 0.001\n",
            "Epoch - 9 : loss 0.9008588659930974, accuracy 0.6736418008804321\n",
            "Current learning rate: 0.001\n"
          ]
        }
      ],
      "source": [
        "device = torch.device(\"cuda\" if torch.cuda.is_available() else \"cpu\")\n",
        "\n",
        "model.to(device)\n",
        "\n",
        "for epoch in range(10):\n",
        "    loss, acc = perform_epoch(model, train_dataloader, criterion,\n",
        "                                optimizer=optimizer, device=device)\n",
        "    print(f\"Epoch - {epoch} : loss {loss}, accuracy {acc}\")\n",
        "    print(f\"Current learning rate: {optimizer.param_groups[0]['lr']}\")"
      ]
    },
    {
      "cell_type": "code",
      "execution_count": null,
      "metadata": {
        "colab": {
          "base_uri": "https://localhost:8080/"
        },
        "id": "JxrvNtm3YSJn",
        "outputId": "e7d31823-ea3c-49aa-8771-2dc56078730c"
      },
      "outputs": [
        {
          "output_type": "stream",
          "name": "stdout",
          "text": [
            "Epoch - 9 : loss 0.9008588659930974, accuracy 0.6736418008804321\n",
            "Current learning rate: 0.001\n"
          ]
        }
      ],
      "source": [
        "print(f\"Epoch - {epoch} : loss {loss}, accuracy {acc}\")\n",
        "print(f\"Current learning rate: {optimizer.param_groups[0]['lr']}\")"
      ]
    },
    {
      "cell_type": "markdown",
      "metadata": {
        "id": "WS41CQj0Y6Q8"
      },
      "source": [
        "Дальше:\n",
        "- Проведите эксперименты с числом слоев.\n",
        "- Постройте графики зависимости качества модели на тренировочной и тестовой выборках от числа слоев. Для получения статистически значимых результатов повторите эксперименты несколько раз.\n",
        "- Сделайте выводы."
      ]
    },
    {
      "cell_type": "code",
      "execution_count": null,
      "metadata": {
        "colab": {
          "base_uri": "https://localhost:8080/",
          "height": 1000
        },
        "id": "ZGcBCqlpMFs1",
        "outputId": "c074291a-e20b-42e8-ba3f-b978132db3e6"
      },
      "outputs": [
        {
          "output_type": "stream",
          "name": "stdout",
          "text": [
            "Epoch - 0 : loss 38.51566456747055, accuracy 0.07468342781066895\n",
            "Epoch - 1 : loss 38.60792798757553, accuracy 0.07451681792736053\n",
            "Epoch - 2 : loss 38.57331149220467, accuracy 0.07556688040494919\n",
            "Epoch - 3 : loss 38.70168957233429, accuracy 0.07456681877374649\n",
            "Epoch - 4 : loss 38.61690561246872, accuracy 0.07441685348749161\n",
            "Epoch - 5 : loss 38.501495959758756, accuracy 0.07558360695838928\n",
            "Epoch - 6 : loss 38.56737844133377, accuracy 0.07615035772323608\n",
            "Epoch - 7 : loss 38.582391882658, accuracy 0.07426676899194717\n",
            "Epoch - 8 : loss 38.42768461155892, accuracy 0.074300117790699\n",
            "Epoch - 9 : loss 38.54865217852593, accuracy 0.07603352516889572\n",
            "Epoch - 0 : loss 2.996047414600849, accuracy 0.10576838254928589\n",
            "Epoch - 1 : loss 3.0071584304571153, accuracy 0.10610164701938629\n",
            "Epoch - 2 : loss 2.9960055177807807, accuracy 0.10553495585918427\n",
            "Epoch - 3 : loss 3.0061565734744073, accuracy 0.10523491352796555\n",
            "Epoch - 4 : loss 3.0046622497439386, accuracy 0.10716841369867325\n",
            "Epoch - 5 : loss 2.997451103687286, accuracy 0.10591839253902435\n",
            "Epoch - 6 : loss 3.00526064735651, accuracy 0.106918565928936\n",
            "Epoch - 7 : loss 3.0043683734834192, accuracy 0.1053682416677475\n",
            "Epoch - 8 : loss 3.002914924681187, accuracy 0.10701821744441986\n",
            "Epoch - 9 : loss 2.9973754282295704, accuracy 0.10573488473892212\n",
            "Epoch - 0 : loss 2.356802241623402, accuracy 0.09645143151283264\n",
            "Epoch - 1 : loss 2.3567437452077864, accuracy 0.09685119986534119\n",
            "Epoch - 2 : loss 2.3575159595012667, accuracy 0.09811805933713913\n",
            "Epoch - 3 : loss 2.357486692249775, accuracy 0.09648475795984268\n",
            "Epoch - 4 : loss 2.356911496579647, accuracy 0.09676799923181534\n",
            "Epoch - 5 : loss 2.357499438226223, accuracy 0.09755130857229233\n",
            "Epoch - 6 : loss 2.358220279574394, accuracy 0.09651787579059601\n",
            "Epoch - 7 : loss 2.3579337161779406, accuracy 0.09788478910923004\n",
            "Epoch - 8 : loss 2.3571729311347007, accuracy 0.09663479775190353\n",
            "Epoch - 9 : loss 2.3568172161579133, accuracy 0.09701800346374512\n",
            "Epoch - 0 : loss 2.309771322727203, accuracy 0.09948461502790451\n",
            "Epoch - 1 : loss 2.309890092253685, accuracy 0.0994514748454094\n",
            "Epoch - 2 : loss 2.3100275459885595, accuracy 0.09940147399902344\n",
            "Epoch - 3 : loss 2.309766864538193, accuracy 0.09851808100938797\n",
            "Epoch - 4 : loss 2.3098104830384254, accuracy 0.10140153020620346\n",
            "Epoch - 5 : loss 2.3099581743478774, accuracy 0.0992015078663826\n",
            "Epoch - 6 : loss 2.309953176319599, accuracy 0.09923481196165085\n",
            "Epoch - 7 : loss 2.3099730618596075, accuracy 0.10048465430736542\n",
            "Epoch - 8 : loss 2.3098460953831674, accuracy 0.09976811707019806\n",
            "Epoch - 9 : loss 2.3099778151512145, accuracy 0.09888483583927155\n",
            "Epoch - 0 : loss 2.311015317738056, accuracy 0.10000133514404297\n",
            "Epoch - 1 : loss 2.310925776898861, accuracy 0.10000148415565491\n",
            "Epoch - 2 : loss 2.3109807499051094, accuracy 0.10000155866146088\n",
            "Epoch - 3 : loss 2.3108515317440035, accuracy 0.10000143945217133\n",
            "Epoch - 4 : loss 2.3108587616682055, accuracy 0.10001805424690247\n",
            "Epoch - 5 : loss 2.310804757297039, accuracy 0.10000152885913849\n",
            "Epoch - 6 : loss 2.3109675700068473, accuracy 0.09998482465744019\n",
            "Epoch - 7 : loss 2.310974326610565, accuracy 0.10000153630971909\n",
            "Epoch - 8 : loss 2.310750581681728, accuracy 0.10000153630971909\n",
            "Epoch - 9 : loss 2.3108964542746544, accuracy 0.10000147670507431\n"
          ]
        },
        {
          "output_type": "display_data",
          "data": {
            "text/plain": [
              "<Figure size 640x480 with 1 Axes>"
            ],
            "image/png": "[encoded data removed]"
          },
          "metadata": {}
        }
      ],
      "source": [
        "#эксперименты с числом слоёв\n",
        "\n",
        "num_layers = [1, 5, 7, 10, 15]\n",
        "optimizer = torch.optim.Adam(model.parameters())\n",
        "criterion = nn.CrossEntropyLoss()\n",
        "fin_score = []\n",
        "\n",
        "for num in num_layers:\n",
        "    model= Network(num_layers=num)\n",
        "    model.to(device)\n",
        "\n",
        "    for epoch in range(10):\n",
        "        loss, acc = perform_epoch(model, train_dataloader, criterion,\n",
        "                                    optimizer=optimizer, device=device)\n",
        "        print(f\"Epoch - {epoch} : loss {loss}, accuracy {acc}\")\n",
        "    fin_score.append(acc)\n",
        "\n",
        "\n",
        "plt.plot(num_layers, fin_score, marker='o', linestyle='-')\n",
        "plt.xlabel('Количество слоёв')\n",
        "plt.ylabel('Accuracy score')\n",
        "plt.title('График зависимости')\n",
        "plt.grid(True)\n",
        "plt.show()\n",
        "\n"
      ]
    },
    {
      "cell_type": "markdown",
      "source": [
        "Выводы: приращение слоёв помогает, но имеет нелинейную зависимость"
      ],
      "metadata": {
        "id": "F00LRbdWe1zm"
      }
    },
    {
      "cell_type": "markdown",
      "metadata": {
        "id": "d3vcONKQ86mu"
      },
      "source": [
        "## 4. Бонусная часть."
      ]
    },
    {
      "cell_type": "markdown",
      "metadata": {
        "id": "Kuhxy7aW86mu"
      },
      "source": [
        "### 4.1 Реализация метода оптимизации (3 + 3 балла).\n",
        "Реализуйте сами метод оптимизации  для рассмотренной выше архитектуры. Вы можете выбрать произвольный метод от градиентного спуска до современных вариантов. Продемонстрируйте правильную работу метода оптимизации, сравните его работы с Adam.\n",
        "\n",
        "**Дополнительные баллы** вы получите, если метод будет уникален среди сдавших задание."
      ]
    },
    {
      "cell_type": "code",
      "execution_count": null,
      "metadata": {
        "id": "GYMu0uF1p6o0"
      },
      "outputs": [],
      "source": [
        "class SotaOptimizer(Optimizer):\n",
        "    def __init__(self, params, lr=1e-3):\n",
        "        defaults = dict(lr=lr)\n",
        "        super(SotaOptimizer, self).__init__(params, defaults)\n",
        "\n",
        "    def __setstate__(self, state):\n",
        "        super(SotaOptimizer, self).__setstate__(state)\n",
        "\n",
        "    @torch.no_grad()\n",
        "    def step(self,):\n",
        "\n",
        "        for group in self.param_groups:\n",
        "            lr = group['lr']\n",
        "            for p in group['params']:\n",
        "                if p.grad is not None:\n",
        "                    p.data.add_(-lr*p.grad)"
      ]
    },
    {
      "cell_type": "code",
      "execution_count": null,
      "metadata": {
        "id": "tPSUZn2AhXL5"
      },
      "outputs": [],
      "source": [
        "class FTRLFunction(Function):\n",
        "    @staticmethod\n",
        "    def forward(ctx, weights, z, n, alpha, beta, l1, l2, grad):\n",
        "        ctx.save_for_backward(weights, z, n, alpha, beta, l1, l2, grad)\n",
        "\n",
        "        sigma = (torch.sqrt(n + z * z) - torch.sqrt(n)) / alpha\n",
        "        weights = weights - (1.0 / beta) * (torch.sign(weights) * l1 - z / sigma + grad) * (1.0 / (l2 + (beta + sigma) * (beta + sigma)))\n",
        "\n",
        "        return weights\n",
        "\n",
        "    @staticmethod\n",
        "    def backward(ctx, grad_output):\n",
        "        weights, z, n, alpha, beta, l1, l2, grad = ctx.saved_tensors\n",
        "\n",
        "        grad_weights = grad_output\n",
        "        grad_z = grad_output * (1.0 / alpha + beta * 2.0 * weights) * (1.0 / (1.0 + weights * weights))\n",
        "        grad_n = grad_z * grad_z\n",
        "\n",
        "        grad_alpha = (grad_output * (z / (alpha * alpha)) - grad_z * z / (alpha * alpha) - grad_n * 0.5) * (torch.sign(alpha) + 1.0)\n",
        "        grad_beta = grad_output * (-torch.log(1.0 + z * z) + torch.log(1.0 + grad_n) + 0.5 * torch.log(1.0 + weights * weights)) * (torch.sign(beta) + 1.0)\n",
        "        grad_l1 = grad_output * torch.sign(weights)\n",
        "        grad_l2 = grad_output * 2.0 * weights\n",
        "        grad_grad = grad_output\n",
        "\n",
        "        return grad_weights, grad_z, grad_n, grad_alpha, grad_beta, grad_l1, grad_l2, grad_grad\n",
        "\n",
        "class FTRL(Optimizer):\n",
        "    def __init__(self, params, lr=0.01, alpha=1.0, beta=1.0, l1=0.0, l2=0.0):\n",
        "        defaults = dict(lr=lr, alpha=alpha, beta=beta, l1=l1, l2=l2)\n",
        "        super(FTRL, self).__init__(params, defaults)\n",
        "\n",
        "    def step(self, closure=None):\n",
        "        loss = None\n",
        "        if closure is not None:\n",
        "            loss = closure()\n",
        "\n",
        "        for group in self.param_groups:\n",
        "            lr = group['lr']\n",
        "            alpha = group['alpha']\n",
        "            beta = group['beta']\n",
        "            l1 = group['l1']\n",
        "            l2 = group['l2']\n",
        "\n",
        "            for p in group['params']:\n",
        "                if p.grad is None:\n",
        "                    continue\n",
        "                grad = p.grad.data\n",
        "                state = self.state[p]\n",
        "\n",
        "                if 'z' not in state:\n",
        "                    state['z'] = torch.zeros_like(p.data)\n",
        "                if 'n' not in state:\n",
        "                    state['n'] = torch.zeros_like(p.data)\n",
        "\n",
        "                z = state['z']\n",
        "                n = state['n']\n",
        "\n",
        "                updated_weights = FTRLFunction.apply(p.data, z, n, alpha, beta, l1, l2, grad)\n",
        "                z.add_(grad - (updated_weights - p.data) * lr)\n",
        "                n.add_(grad * grad)\n",
        "\n",
        "                p.data = updated_weights\n",
        "\n",
        "        return loss"
      ]
    },
    {
      "cell_type": "code",
      "execution_count": null,
      "metadata": {
        "id": "N-bJn587OGWK",
        "colab": {
          "base_uri": "https://localhost:8080/"
        },
        "outputId": "25f27c83-397a-42e2-c4c4-44ea10b1ad6e"
      },
      "outputs": [
        {
          "output_type": "stream",
          "name": "stdout",
          "text": [
            "Optimizer - Adam, Epoch - 0 : loss 1.2500524741783738, accuracy 0.10548502206802368\n",
            "Optimizer - Adam, Epoch - 1 : loss 1.2544473147168755, accuracy 0.1049017608165741\n",
            "Optimizer - Adam, Epoch - 2 : loss 1.2509619384482502, accuracy 0.1054016500711441\n",
            "Optimizer - Adam, Epoch - 3 : loss 1.2476943512111902, accuracy 0.1057015061378479\n",
            "Optimizer - Adam, Epoch - 4 : loss 1.2534376269057392, accuracy 0.10618490725755692\n",
            "Optimizer - FTRL, Epoch - 0 : loss 2.2726023986637593, accuracy 0.1026182696223259\n",
            "Optimizer - FTRL, Epoch - 1 : loss 2.2706765853762625, accuracy 0.1027349904179573\n",
            "Optimizer - FTRL, Epoch - 2 : loss 2.2610332568734886, accuracy 0.10431811958551407\n",
            "Optimizer - FTRL, Epoch - 3 : loss 2.2710889247506856, accuracy 0.10358494520187378\n",
            "Optimizer - FTRL, Epoch - 4 : loss 2.2710255908966066, accuracy 0.10216826945543289\n"
          ]
        }
      ],
      "source": [
        "optimizer1 = torch.optim.Adam(model.parameters())\n",
        "optimizer2 = FTRL(model.parameters(), lr=0.1, alpha=1.0, beta=1.0, l1=0.0, l2=0.0)\n",
        "opts = [optimizer1, optimizer2]\n",
        "opts_name = ['Adam', 'FTRL']\n",
        "criterion = CrossEntropyLoss()\n",
        "fin_score = []\n",
        "\n",
        "for opt in range(len(opts)):\n",
        "    model= Network()\n",
        "    model.to(device)\n",
        "    opt_name = opts_name[opt]\n",
        "\n",
        "    for epoch in range(5):\n",
        "        loss, acc = perform_epoch(model, train_dataloader, criterion,\n",
        "                                    optimizer=opts[opt], device=device)\n",
        "        print(f\"Optimizer - {opt_name}, Epoch - {epoch} : loss {loss}, accuracy {acc}\")\n",
        "    fin_score.append(acc)"
      ]
    },
    {
      "cell_type": "code",
      "execution_count": null,
      "metadata": {
        "id": "48EfRBIgQEW7",
        "colab": {
          "base_uri": "https://localhost:8080/"
        },
        "outputId": "26fc086c-031a-4c36-e3d6-6c72508f738d"
      },
      "outputs": [
        {
          "output_type": "execute_result",
          "data": {
            "text/plain": [
              "[tensor(0.1062), tensor(0.1022)]"
            ]
          },
          "metadata": {},
          "execution_count": 64
        }
      ],
      "source": [
        "fin_score"
      ]
    },
    {
      "cell_type": "code",
      "source": [
        "#адам чуть получше справился"
      ],
      "metadata": {
        "id": "Xy3dmRRh4oeH"
      },
      "execution_count": null,
      "outputs": []
    },
    {
      "cell_type": "markdown",
      "metadata": {
        "id": "d3aabYCykXL7"
      },
      "source": [
        "### 4.2 Реализация современной функции активации (2 + 2 балла).\n",
        "Реализуйте одну из активаций, предложенных на лекции или в статье. Например, `Hardswish`. Сравните сеть с вашей активацией и с `ReLU`.\n",
        "\n",
        "**Дополнительные баллы** вы получите, если функция будет уникальна среди сдавших задание."
      ]
    },
    {
      "cell_type": "code",
      "execution_count": null,
      "metadata": {
        "id": "F3R8yqDPjlfn"
      },
      "outputs": [],
      "source": [
        "class HardSwishFunction(Function):\n",
        "    @staticmethod\n",
        "    def forward(ctx, input):\n",
        "        ctx.save_for_backward(input)\n",
        "        return input * torch.clamp(input + 3, 0, 6) / 6\n",
        "\n",
        "    @staticmethod\n",
        "    def backward(ctx, grad_output):\n",
        "        input, = ctx.saved_tensors\n",
        "        grad_input = grad_output.clone()\n",
        "        grad_input[input < -3] = 0\n",
        "        grad_input[input > 3] = grad_input[input > 3] * (input[input > 3] / 3)\n",
        "        return grad_input\n",
        "\n",
        "class HardSwish(nn.Module):\n",
        "    def forward(self, input):\n",
        "        return HardSwishFunction.apply(input)"
      ]
    },
    {
      "cell_type": "code",
      "execution_count": null,
      "metadata": {
        "id": "uF0E62sFlyRS"
      },
      "outputs": [],
      "source": [
        "import torch\n",
        "import torch.nn as nn\n",
        "\n",
        "# SoftClipping Activation Function as a standalone function\n",
        "class SoftClippingActivationFunction:\n",
        "    def __init__(self, alpha=1.0, beta=2.0):\n",
        "        self.alpha = alpha\n",
        "        self.beta = beta\n",
        "\n",
        "    def __call__(self, x):\n",
        "        return self.alpha * torch.log(1 + torch.exp(self.beta * x)) / self.beta\n",
        "\n",
        "# SoftClipping Activation Module as a PyTorch nn.Module\n",
        "class SoftClippingActivation(nn.Module):\n",
        "    def __init__(self, alpha=1.0, beta=2.0):\n",
        "        super(SoftClippingActivation, self).__init__()\n",
        "        self.alpha = alpha\n",
        "        self.beta = beta\n",
        "\n",
        "    def forward(self, x):\n",
        "        return self.alpha * torch.log(1 + torch.exp(self.beta * x)) / self.beta\n"
      ]
    },
    {
      "cell_type": "code",
      "execution_count": null,
      "metadata": {
        "id": "UqUYvekcQGRe"
      },
      "outputs": [],
      "source": [
        "optimizer = torch.optim.Adam(model.parameters()) #your optimizer\n",
        "criterion = nn.CrossEntropyLoss()"
      ]
    },
    {
      "cell_type": "code",
      "execution_count": null,
      "metadata": {
        "id": "MtVrSfHLQHGP",
        "colab": {
          "base_uri": "https://localhost:8080/"
        },
        "outputId": "534c8a52-2459-424d-fdd0-ba9f23f5b821"
      },
      "outputs": [
        {
          "output_type": "stream",
          "name": "stdout",
          "text": [
            "Activation - ReLU, Epoch - 0 : loss 3.0257985436320305, accuracy 0.09540141373872757\n",
            "Activation - ReLU, Epoch - 1 : loss 3.0259811367988587, accuracy 0.09571784734725952\n",
            "Activation - ReLU, Epoch - 2 : loss 3.0252048024237155, accuracy 0.09640134871006012\n",
            "Activation - ReLU, Epoch - 3 : loss 3.02885252019763, accuracy 0.09663474559783936\n",
            "Activation - ReLU, Epoch - 4 : loss 3.014399968445301, accuracy 0.09545118361711502\n",
            "Activation - HardSwish, Epoch - 0 : loss 3.0299205566346648, accuracy 0.09155112504959106\n",
            "Activation - HardSwish, Epoch - 1 : loss 3.03397320908308, accuracy 0.08940105140209198\n",
            "Activation - HardSwish, Epoch - 2 : loss 3.032230100363493, accuracy 0.0919511616230011\n",
            "Activation - HardSwish, Epoch - 3 : loss 3.038664170861244, accuracy 0.08981779962778091\n",
            "Activation - HardSwish, Epoch - 4 : loss 3.0310003487467765, accuracy 0.090817891061306\n",
            "Activation - SoftClippingActivation, Epoch - 0 : loss nan, accuracy 0.1061517745256424\n",
            "Activation - SoftClippingActivation, Epoch - 1 : loss nan, accuracy 0.10821841657161713\n",
            "Activation - SoftClippingActivation, Epoch - 2 : loss nan, accuracy 0.10731833428144455\n",
            "Activation - SoftClippingActivation, Epoch - 3 : loss nan, accuracy 0.10818502306938171\n",
            "Activation - SoftClippingActivation, Epoch - 4 : loss nan, accuracy 0.10676824301481247\n"
          ]
        }
      ],
      "source": [
        "device = torch.device(\"cuda\" if torch.cuda.is_available() else \"cpu\")\n",
        "\n",
        "activations = [ReLU, HardSwish, SoftClippingActivation]\n",
        "act_names = ['ReLU', 'HardSwish', 'SoftClippingActivation']\n",
        "fin_scores = []\n",
        "\n",
        "for activation in range(len(activations)):\n",
        "    model = Network(activation_function=activations[activation]) #your network\n",
        "    model.to(device)\n",
        "    act_name = act_names[activation]\n",
        "    for epoch in range(5):\n",
        "        loss, acc = perform_epoch(model, train_dataloader, criterion,\n",
        "                                    optimizer=optimizer, device=device)\n",
        "        print(f\"Activation - {act_name}, Epoch - {epoch} : loss {loss}, accuracy {acc}\")\n",
        "    fin_scores.append(acc)"
      ]
    },
    {
      "cell_type": "code",
      "source": [
        "fin_scores"
      ],
      "metadata": {
        "colab": {
          "base_uri": "https://localhost:8080/"
        },
        "id": "_4WoXQ_m7r4e",
        "outputId": "1ca660c1-e0bb-42a6-b418-42ee0ee030f5"
      },
      "execution_count": null,
      "outputs": [
        {
          "output_type": "execute_result",
          "data": {
            "text/plain": [
              "[tensor(0.0955), tensor(0.0908), tensor(0.1068)]"
            ]
          },
          "metadata": {},
          "execution_count": 79
        }
      ]
    },
    {
      "cell_type": "code",
      "source": [
        "#справился лучше всех SoftClipping"
      ],
      "metadata": {
        "id": "WRUaZ5DZ-cBE"
      },
      "execution_count": null,
      "outputs": []
    }
  ],
  "metadata": {
    "colab": {
      "provenance": []
    },
    "kernelspec": {
      "display_name": "Python 3",
      "language": "python",
      "name": "python3"
    },
    "language_info": {
      "codemirror_mode": {
        "name": "ipython",
        "version": 3
      },
      "file_extension": ".py",
      "mimetype": "text/x-python",
      "name": "python",
      "nbconvert_exporter": "python",
      "pygments_lexer": "ipython3",
      "version": "3.6.6"
    }
  },
  "nbformat": 4,
  "nbformat_minor": 0
}